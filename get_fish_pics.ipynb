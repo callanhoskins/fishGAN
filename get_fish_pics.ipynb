{
 "cells": [
  {
   "cell_type": "code",
   "execution_count": 6,
   "id": "strong-drove",
   "metadata": {},
   "outputs": [],
   "source": [
    "import selenium\n",
    "import requests\n",
    "from bs4 import BeautifulSoup"
   ]
  },
  {
   "cell_type": "code",
   "execution_count": 11,
   "id": "consistent-honolulu",
   "metadata": {},
   "outputs": [],
   "source": [
    "url_index = 'https://www.fishbase.us/photos/FamilyThumbnailsSummary.php?famcode='\n",
    "url_photo = 'http://d1iraxgbwuhpbw.cloudfront.net/images/species/'\n",
    "fam_code = '10'\n",
    "species_name = 'ceven_u1.jpg'\n",
    "headers = {'User-Agent': 'Mozilla/5.0 (Macintosh; Intel Mac OS X 10_11_5) AppleWebKit/537.36 (KHTML, like Gecko) Chrome/50.0.2661.102 Safari/537.36'}\n",
    "MAX_PAGE = 595"
   ]
  },
  {
   "cell_type": "code",
   "execution_count": 24,
   "id": "continuous-smith",
   "metadata": {},
   "outputs": [],
   "source": [
    "def get_image_names(url): \n",
    "    page = requests.get(url, headers=headers)\n",
    "    soup = BeautifulSoup(page.content, 'html.parser')\n",
    "    images = soup.find_all('img')\n",
    "    img_names = [img['src'].lower() for img in images]\n",
    "    return [name[name.find('_')+1:] for name in img_names]"
   ]
  },
  {
   "cell_type": "code",
   "execution_count": 25,
   "id": "eligible-imaging",
   "metadata": {},
   "outputs": [],
   "source": [
    "def download_image(species_name, fam_code): \n",
    "    r = requests.get(url_photo + species_name, headers=headers)\n",
    "    with open('fish_pics/' + fam_code + '_' + species_name, 'wb') as f: \n",
    "        f.write(r.content)"
   ]
  },
  {
   "cell_type": "code",
   "execution_count": 26,
   "id": "directed-spirit",
   "metadata": {},
   "outputs": [],
   "source": [
    "for fam_code in range(5): \n",
    "    fam_code = str(fam_code)\n",
    "    img_names = get_image_names(url_index + fam_code)\n",
    "    for name in img_names: \n",
    "        download_image(name, fam_code)"
   ]
  }
 ],
 "metadata": {
  "kernelspec": {
   "display_name": "Python 3",
   "language": "python",
   "name": "python3"
  },
  "language_info": {
   "codemirror_mode": {
    "name": "ipython",
    "version": 3
   },
   "file_extension": ".py",
   "mimetype": "text/x-python",
   "name": "python",
   "nbconvert_exporter": "python",
   "pygments_lexer": "ipython3",
   "version": "3.9.1"
  }
 },
 "nbformat": 4,
 "nbformat_minor": 5
}
