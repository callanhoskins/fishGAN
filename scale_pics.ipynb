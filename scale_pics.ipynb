{
 "cells": [
  {
   "cell_type": "code",
   "execution_count": 5,
   "id": "introductory-jones",
   "metadata": {},
   "outputs": [],
   "source": [
    "import os\n",
    "import cv2"
   ]
  },
  {
   "cell_type": "code",
   "execution_count": 22,
   "id": "medium-producer",
   "metadata": {},
   "outputs": [
    {
     "name": "stdout",
     "output_type": "stream",
     "text": [
      "['isoxy_u6.jpg']\n"
     ]
    }
   ],
   "source": [
    "files_paths = os.listdir(\"fish_pics/\")\n",
    "print(files_paths)"
   ]
  },
  {
   "cell_type": "code",
   "execution_count": 27,
   "id": "developing-serial",
   "metadata": {},
   "outputs": [],
   "source": [
    "def crop_img(img): \n",
    "    center = (img.shape[0]//2, img.shape[1]//2)\n",
    "    half_len = min(center[0], center[1])\n",
    "    img = img[center[0]-half_len:center[0]+half_len, center[1]-half_len:center[1]+half_len]\n",
    "    return img"
   ]
  },
  {
   "cell_type": "code",
   "execution_count": 28,
   "id": "opposed-stupid",
   "metadata": {},
   "outputs": [],
   "source": [
    "for file in files_paths: \n",
    "    image = cv2.imread('fish_pics/' + file)\n",
    "    image = crop_img(image)\n",
    "    image = cv2.resize(image, (256, 256))\n",
    "    cv2.imwrite('resized_fish_pics/' + file, image)"
   ]
  }
 ],
 "metadata": {
  "kernelspec": {
   "display_name": "Python 3",
   "language": "python",
   "name": "python3"
  },
  "language_info": {
   "codemirror_mode": {
    "name": "ipython",
    "version": 3
   },
   "file_extension": ".py",
   "mimetype": "text/x-python",
   "name": "python",
   "nbconvert_exporter": "python",
   "pygments_lexer": "ipython3",
   "version": "3.9.1"
  }
 },
 "nbformat": 4,
 "nbformat_minor": 5
}
