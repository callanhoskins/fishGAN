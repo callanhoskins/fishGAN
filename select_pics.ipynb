{
 "cells": [
  {
   "cell_type": "code",
   "execution_count": 5,
   "id": "tired-girlfriend",
   "metadata": {},
   "outputs": [],
   "source": [
    "from shutil import copyfile\n",
    "import os"
   ]
  },
  {
   "cell_type": "code",
   "execution_count": 3,
   "id": "strategic-whole",
   "metadata": {},
   "outputs": [],
   "source": [
    "start_fam = '200'\n",
    "end_fam = '380'"
   ]
  },
  {
   "cell_type": "code",
   "execution_count": 2,
   "id": "opposed-addiction",
   "metadata": {},
   "outputs": [],
   "source": [
    "orig_path = 'resized_fish_pics/'\n",
    "new_path = 'select_fish_pics/'"
   ]
  },
  {
   "cell_type": "code",
   "execution_count": 7,
   "id": "brave-joining",
   "metadata": {},
   "outputs": [],
   "source": [
    "for file in os.listdir(orig_path): \n",
    "    if file >= start_fam and file <= end_fam: \n",
    "        copyfile(orig_path + file, new_path + file)"
   ]
  }
 ],
 "metadata": {
  "kernelspec": {
   "display_name": "Python 3",
   "language": "python",
   "name": "python3"
  },
  "language_info": {
   "codemirror_mode": {
    "name": "ipython",
    "version": 3
   },
   "file_extension": ".py",
   "mimetype": "text/x-python",
   "name": "python",
   "nbconvert_exporter": "python",
   "pygments_lexer": "ipython3",
   "version": "3.9.1"
  }
 },
 "nbformat": 4,
 "nbformat_minor": 5
}
